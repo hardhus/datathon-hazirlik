{
 "cells": [
  {
   "cell_type": "markdown",
   "metadata": {},
   "source": [
    "# Simple Linear Regression\n"
   ]
  },
  {
   "cell_type": "markdown",
   "metadata": {},
   "source": [
    "Linear Regression is a statistical method used to model the relationship between a dependent variable and one or more independent variables. The goal is to find the linear relationship that best predicts the dependent variable based on the independent variables.\n",
    "\n",
    "## Formula\n",
    "\n",
    "For a simple linear regression with one independent variable, the relationship is expressed as:\n",
    "\n",
    "\\[ y = ax + b \\]\n",
    "\n",
    "where:\n",
    "\n",
    "-   \\( y \\) is the **dependent variable** (the variable we want to predict),\n",
    "-   \\( x \\) is the **independent variable** (the variable used for prediction),\n",
    "-   \\( a \\) is the **slope** of the line (which represents the change in \\( y \\) for a unit change in \\( x \\)),\n",
    "-   \\( b \\) is the **intercept** (the value of \\( y \\) when \\( x \\) is 0).\n",
    "\n",
    "## Key Concepts\n",
    "\n",
    "-   **Dependent Variable**: Also known as the response or target variable, it is the outcome we are trying to predict.\n",
    "-   **Independent Variable**: Also known as the predictor or feature, it is the variable used to make predictions about the dependent variable.\n",
    "-   **Slope (a)**: Represents the rate of change in the dependent variable for a unit change in the independent variable.\n",
    "-   **Intercept (b)**: Represents the point where the line crosses the y-axis, indicating the value of the dependent variable when the independent variable is zero.\n",
    "\n",
    "## Example\n",
    "\n",
    "In a real-world scenario, if we are predicting house prices (dependent variable) based on the size of the house (independent variable), the linear regression model would help us determine how much the price changes with each additional square meter of the house.\n"
   ]
  },
  {
   "cell_type": "markdown",
   "metadata": {},
   "source": [
    "## Overview\n",
    "\n",
    "Simple Linear Regression is a statistical method used to model the relationship between a dependent variable and a single independent variable. It assumes a linear relationship between the variables.\n",
    "\n",
    "## Mathematical Model\n",
    "\n",
    "The model can be represented by the equation: \\[ y = ax + b \\]\n",
    "\n",
    "Where:\n",
    "\n",
    "-   \\( y \\) is the dependent variable (target).\n",
    "-   \\( x \\) is the independent variable (feature).\n",
    "-   \\( a \\) is the slope of the line.\n",
    "-   \\( b \\) is the intercept.\n",
    "\n",
    "## Implementation Steps\n",
    "\n",
    "1. **Data Preparation**\n",
    "\n",
    "    - Load the dataset.\n",
    "    - Split the data into training and testing sets.\n",
    "\n",
    "2. **Model Training**\n",
    "\n",
    "    - Use the `fit` method to train the model on the training data.\n",
    "\n",
    "3. **Prediction**\n",
    "    - Use the `predict` method to make predictions on new data.\n",
    "\n",
    "## Example Code\n",
    "\n",
    "```python\n",
    "import pandas as pd\n",
    "from sklearn.model_selection import train_test_split\n",
    "from sklearn.linear_model import LinearRegression\n",
    "\n",
    "# Load the data\n",
    "data = pd.read_csv(\"data/prediction/sales.csv\")\n",
    "months = data[\"Aylar\"].values.reshape(-1, 1)\n",
    "sales = data[\"Satislar\"]\n",
    "\n",
    "# Split the data\n",
    "X_train, X_test, y_train, y_test = train_test_split(months, sales, test_size=0.33, random_state=0)\n",
    "\n",
    "# Initialize and train the model\n",
    "model = LinearRegression()\n",
    "model.fit(X_train, y_train)\n",
    "\n",
    "# Make predictions\n",
    "y_pred = model.predict(X_test)\n",
    "```\n"
   ]
  },
  {
   "cell_type": "code",
   "execution_count": 83,
   "metadata": {},
   "outputs": [],
   "source": [
    "import numpy as np\n",
    "import pandas as pd\n",
    "import matplotlib.pyplot as plt\n",
    "\n",
    "from sklearn.model_selection import train_test_split\n",
    "from sklearn.preprocessing import StandardScaler\n",
    "from sklearn.linear_model import LinearRegression"
   ]
  },
  {
   "cell_type": "code",
   "execution_count": 94,
   "metadata": {},
   "outputs": [],
   "source": [
    "data = pd.read_csv(r\"data/prediction/sales.csv\")\n",
    "months = data[[\"Aylar\"]]\n",
    "sales = data[[\"Satislar\"]]\n",
    "x_train, x_test, y_train, y_test = train_test_split(months, sales, test_size=.33, random_state=0)"
   ]
  },
  {
   "cell_type": "code",
   "execution_count": 85,
   "metadata": {},
   "outputs": [],
   "source": [
    "# sc = StandardScaler()\n",
    "# X_train = sc.fit_transform(x_train)\n",
    "# X_test = sc.transform(x_test)\n",
    "\n",
    "# Y_train = y_train\n",
    "# Y_test = y_test"
   ]
  },
  {
   "cell_type": "code",
   "execution_count": null,
   "metadata": {},
   "outputs": [],
   "source": [
    "lr = LinearRegression()\n",
    "lr.fit(x_train, y_train)"
   ]
  },
  {
   "cell_type": "code",
   "execution_count": null,
   "metadata": {},
   "outputs": [],
   "source": [
    "predict = lr.predict(x_test)\n",
    "predict"
   ]
  },
  {
   "cell_type": "code",
   "execution_count": null,
   "metadata": {},
   "outputs": [],
   "source": [
    "plt.plot(x_train.sort_index(), y_train.sort_index())\n",
    "plt.plot(x_test, predict)"
   ]
  }
 ],
 "metadata": {
  "kernelspec": {
   "display_name": "env",
   "language": "python",
   "name": "python3"
  },
  "language_info": {
   "codemirror_mode": {
    "name": "ipython",
    "version": 3
   },
   "file_extension": ".py",
   "mimetype": "text/x-python",
   "name": "python",
   "nbconvert_exporter": "python",
   "pygments_lexer": "ipython3",
   "version": "3.12.4"
  }
 },
 "nbformat": 4,
 "nbformat_minor": 2
}

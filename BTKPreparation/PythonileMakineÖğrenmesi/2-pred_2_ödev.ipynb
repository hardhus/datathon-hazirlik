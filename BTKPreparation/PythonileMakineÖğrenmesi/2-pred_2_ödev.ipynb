{
 "cells": [
  {
   "cell_type": "markdown",
   "metadata": {},
   "source": [
    "# Imports\n"
   ]
  },
  {
   "cell_type": "code",
   "execution_count": 84,
   "metadata": {},
   "outputs": [],
   "source": [
    "import pandas as pd\n",
    "import numpy as np\n",
    "\n",
    "from sklearn.preprocessing import LabelEncoder, OneHotEncoder, StandardScaler\n",
    "from sklearn.model_selection import train_test_split\n",
    "from sklearn.linear_model import LinearRegression\n",
    "from sklearn.metrics import accuracy_score, mean_squared_error, mean_absolute_error, r2_score\n",
    "\n",
    "import statsmodels.api as sm"
   ]
  },
  {
   "cell_type": "markdown",
   "metadata": {},
   "source": [
    "# Preprocessing\n"
   ]
  },
  {
   "cell_type": "code",
   "execution_count": null,
   "metadata": {},
   "outputs": [],
   "source": [
    "data = pd.read_csv(r\"data/prediction/tennis.csv\")\n",
    "data.head()"
   ]
  },
  {
   "cell_type": "code",
   "execution_count": 86,
   "metadata": {},
   "outputs": [],
   "source": [
    "le = LabelEncoder()\n",
    "ohe = OneHotEncoder()"
   ]
  },
  {
   "cell_type": "code",
   "execution_count": null,
   "metadata": {},
   "outputs": [],
   "source": [
    "outlook = data[\"outlook\"]\n",
    "outlook = le.fit_transform(outlook)\n",
    "outlook = outlook.reshape(-1, 1)\n",
    "outlook = ohe.fit_transform(outlook).toarray()\n",
    "outlook"
   ]
  },
  {
   "cell_type": "code",
   "execution_count": null,
   "metadata": {},
   "outputs": [],
   "source": [
    "outlook_df = pd.DataFrame(data=outlook, columns=[\"sunny\", \"overcast\", \"rainy\"])\n",
    "outlook_df"
   ]
  },
  {
   "cell_type": "code",
   "execution_count": null,
   "metadata": {},
   "outputs": [],
   "source": [
    "windy = data[\"windy\"]\n",
    "windy = le.fit_transform(windy)\n",
    "windy = windy.reshape(-1, 1)\n",
    "windy"
   ]
  },
  {
   "cell_type": "code",
   "execution_count": null,
   "metadata": {},
   "outputs": [],
   "source": [
    "windy_df = pd.DataFrame(data=windy, columns=[\"windy\"])\n",
    "windy_df"
   ]
  },
  {
   "cell_type": "code",
   "execution_count": null,
   "metadata": {},
   "outputs": [],
   "source": [
    "play = data[\"play\"]\n",
    "play = le.fit_transform(play)\n",
    "play = play.reshape(-1, 1)\n",
    "play"
   ]
  },
  {
   "cell_type": "code",
   "execution_count": null,
   "metadata": {},
   "outputs": [],
   "source": [
    "play_df = pd.DataFrame(data=play, columns=[\"play\"])\n",
    "play_df"
   ]
  },
  {
   "cell_type": "code",
   "execution_count": null,
   "metadata": {},
   "outputs": [],
   "source": [
    "temp_humi = data[[\"temperature\", \"humidity\"]]\n",
    "temp_humi"
   ]
  },
  {
   "cell_type": "code",
   "execution_count": null,
   "metadata": {},
   "outputs": [],
   "source": [
    "final_df = pd.concat([outlook_df, temp_humi, windy_df, play_df], axis=1)\n",
    "final_df"
   ]
  },
  {
   "cell_type": "markdown",
   "metadata": {},
   "source": [
    "# Backward Elimination\n"
   ]
  },
  {
   "cell_type": "code",
   "execution_count": null,
   "metadata": {},
   "outputs": [],
   "source": [
    "X_l = final_df.iloc[:, [0, 1, 2, 3, 5, 6]].values\n",
    "Y_l = final_df.iloc[:, 4].values\n",
    "model = sm.OLS(Y_l, X_l).fit()\n",
    "model.summary()"
   ]
  },
  {
   "cell_type": "code",
   "execution_count": null,
   "metadata": {},
   "outputs": [],
   "source": [
    "X_l = final_df.iloc[:, [0, 1, 2, 3, 6]].values\n",
    "Y_l = final_df.iloc[:, 4].values\n",
    "model = sm.OLS(Y_l, X_l).fit()\n",
    "model.summary()"
   ]
  },
  {
   "cell_type": "code",
   "execution_count": 97,
   "metadata": {},
   "outputs": [],
   "source": [
    "# final_df = final_df.drop(columns=[\"windy\"])"
   ]
  },
  {
   "cell_type": "markdown",
   "metadata": {},
   "source": [
    "# Model\n"
   ]
  },
  {
   "cell_type": "code",
   "execution_count": null,
   "metadata": {},
   "outputs": [],
   "source": [
    "target = \"humidity\"\n",
    "method = \"binary\" if target in [\"play\", \"windy\"] else \"continous\"\n",
    "is_scaled = True\n",
    "x_train, x_test, y_train, y_test = train_test_split(final_df.drop(columns=[target]), final_df[target], test_size=.33, random_state=0)\n",
    "\n",
    "lr = LinearRegression()\n",
    "if is_scaled:\n",
    "    sc = StandardScaler()\n",
    "    X_train = sc.fit_transform(x_train)\n",
    "    X_test = sc.transform(x_test)\n",
    "else:\n",
    "    X_train = x_train\n",
    "    X_test = x_test\n",
    "\n",
    "lr.fit(X_train, y_train)\n",
    "pred = lr.predict(X_test)\n",
    "\n",
    "if method == \"binary\":\n",
    "    threshold = .5\n",
    "    pred_binary = (pred > threshold).astype(int)\n",
    "    accuracy = accuracy_score(y_test, pred_binary)\n",
    "    print(pred_binary == y_test)\n",
    "    print(accuracy)\n",
    "elif method == \"continous\":\n",
    "    mse = mean_squared_error(y_test, pred)\n",
    "    mae = mean_absolute_error(y_test, pred)\n",
    "    r2 = r2_score(y_test, pred)\n",
    "    print(f\"Mean Squared Error (MSE): {mse:.2f}\")\n",
    "    print(f\"Mean Absolute Error (MAE): {mae:.2f}\")\n",
    "    print(f\"R^2 Score: {r2:.2f}\")\n",
    "    print()\n",
    "    print(y_test.values)\n",
    "    print(np.round(pred, 2))"
   ]
  },
  {
   "cell_type": "markdown",
   "metadata": {},
   "source": [
    "### Model Performans Karşılaştırması\n",
    "\n",
    "#### 1. Windy Özelliği Kullanılarak Elde Edilen Sonuçlar\n",
    "\n",
    "-   **Mean Squared Error (MSE)**: 205.57\n",
    "-   **Mean Absolute Error (MAE)**: 11.60\n",
    "-   **R² Score**: -1.31\n",
    "\n",
    "**Gerçek Değerler**: `[70, 65, 80, 90, 86]`\n",
    "\n",
    "**Tahmin Edilen Değerler**: `[84.45 63.94 85.76 64.21 75.07]`\n",
    "\n",
    "#### 2. Windy Özelliği Kullanılmadan Elde Edilen Sonuçlar\n",
    "\n",
    "-   **Mean Squared Error (MSE)**: 110.07\n",
    "-   **Mean Absolute Error (MAE)**: 7.99\n",
    "-   **R² Score**: -0.24\n",
    "\n",
    "**Gerçek Değerler**: `[70, 65, 80, 90, 86]`\n",
    "\n",
    "**Tahmin Edilen Değerler**: `[75.41 65.41 83.91 69.91 75.9 ]`\n"
   ]
  }
 ],
 "metadata": {
  "kernelspec": {
   "display_name": "env",
   "language": "python",
   "name": "python3"
  },
  "language_info": {
   "codemirror_mode": {
    "name": "ipython",
    "version": 3
   },
   "file_extension": ".py",
   "mimetype": "text/x-python",
   "name": "python",
   "nbconvert_exporter": "python",
   "pygments_lexer": "ipython3",
   "version": "3.12.4"
  }
 },
 "nbformat": 4,
 "nbformat_minor": 2
}
